{
 "cells": [
  {
   "cell_type": "code",
   "execution_count": 4,
   "id": "a49bd185",
   "metadata": {},
   "outputs": [],
   "source": [
    "import pandas as pd\n",
    "import streamlit as st\n",
    "from sklearn.linear_model import LogisticRegression\n",
    "from pickle import dump\n",
    "from pickle import load\n",
    "import pickle\n",
    "import matplotlib.pyplot as plt\n",
    "import textblob\n",
    "from textblob import TextBlob\n",
    "from nltk.sentiment.vader import SentimentIntensityAnalyzer\n",
    "import nltk\n",
    "import re"
   ]
  },
  {
   "cell_type": "code",
   "execution_count": 2,
   "id": "e77e0a9f",
   "metadata": {},
   "outputs": [],
   "source": [
    "import warnings\n",
    "warnings.filterwarnings('ignore')"
   ]
  },
  {
   "cell_type": "code",
   "execution_count": 33,
   "id": "b4d84e4b",
   "metadata": {},
   "outputs": [
    {
     "data": {
      "text/plain": [
       "DeltaGenerator(_root_container=1, _provided_cursor=None, _parent=DeltaGenerator(_root_container=0, _provided_cursor=None, _parent=None, _block_type=None, _form_data=None), _block_type=None, _form_data=None)"
      ]
     },
     "execution_count": 33,
     "metadata": {},
     "output_type": "execute_result"
    }
   ],
   "source": [
    "st.title('Analysing User Review Ratings')\n",
    "st.sidebar.header('Instructions')\n",
    "\n",
    "st.sidebar.markdown(\"1.Review column's name should be **Review/Text**\")\n",
    "st.sidebar.markdown(\"2.Rating column's name should be **ratings**\")\n",
    "st.sidebar.markdown(\"3.Rating range should be 0to5\")"
   ]
  },
  {
   "cell_type": "code",
   "execution_count": 5,
   "id": "3115680f",
   "metadata": {},
   "outputs": [
    {
     "name": "stderr",
     "output_type": "stream",
     "text": [
      "[nltk_data] Downloading package stopwords to\n",
      "[nltk_data]     C:\\Users\\Hp\\AppData\\Roaming\\nltk_data...\n",
      "[nltk_data]   Package stopwords is already up-to-date!\n"
     ]
    }
   ],
   "source": [
    "import re\n",
    "import nltk\n",
    "nltk.download('stopwords')\n",
    "from nltk.corpus import stopwords\n",
    "from nltk.stem.porter import PorterStemmer\n",
    "p = PorterStemmer()\n",
    "all_stopwords= stopwords.words('english')\n",
    "all_stopwords.remove('not')\n",
    "port = PorterStemmer()"
   ]
  },
  {
   "cell_type": "code",
   "execution_count": 30,
   "id": "d25eb345",
   "metadata": {},
   "outputs": [],
   "source": [
    "def text_cleaner(text):\n",
    "    cleaned = re.sub('[^a-zA-Z]', \" \", text)\n",
    "    cleaned = cleaned.lower()\n",
    "    cleaned = cleaned.split()\n",
    "    cleaned = [port.stem(word) for word in cleaned if word not in stopwords.words(\"english\")]\n",
    "    cleaned = ' '.join(cleaned)\n",
    "    return cleaned"
   ]
  },
  {
   "cell_type": "code",
   "execution_count": null,
   "id": "1b6e5a0d",
   "metadata": {},
   "outputs": [],
   "source": [
    "st.title(\"Identifying Review's Rating\")\n",
    "\n"
   ]
  },
  {
   "cell_type": "code",
   "execution_count": 31,
   "id": "8edb803b",
   "metadata": {},
   "outputs": [],
   "source": [
    "uploaded_file = st.file_uploader(\"Choose a File\")\n",
    "\n",
    "df = pd.read_csv(\"chrome_reviews.csv\")\n",
    "st.write(df)"
   ]
  },
  {
   "cell_type": "code",
   "execution_count": 32,
   "id": "45a4e63e",
   "metadata": {},
   "outputs": [],
   "source": [
    "if st.button(\"Click for Results\") :\n",
    "    df[\"Text_cleaned\"] = df[\"Text\"].apply(lambda x: text_cleaner(str(x)))\n",
    "\n",
    "    sid = SentimentIntensityAnalyzer()\n",
    "\n",
    "    df[\"sentiments_vader\"] = df[\"Text_cleaned\"].apply(lambda x:sid.polarity_scores(x))\n",
    "    df[\"Vader_Compound_Score\"]  = df['sentiments_vader'].apply(lambda score_dict: score_dict['compound'])\n",
    "    df[\"Result\"] = df[\"Vader_Compound_Score\"].apply(lambda c: 'positive' if c > 0 else ('negative' if c < 0 else 'neutral'))\n",
    "    st.bar_chart(df.Result.value_counts())\n",
    "\n",
    "    df_positive = df[(df.Result == \"positive\")]\n",
    "    df_positive[\"Opinion_Positive\"] = df_positive[\"Star\"].apply(lambda star: \"No Attention Needed\" if star >= 3 else \"Attention Needed\")\n",
    "    st.bar_chart(df_positive.Opinion_Positive.value_counts())\n",
    "\n",
    "    data = df_positive\n",
    "\n",
    "    st.download_button(\n",
    "        label=\"Download data as CSV\",\n",
    "        df=df.to_csv().encode(\"utf-8\"),\n",
    "        file_name='data.csv',\n",
    "        mime='text/csv',\n",
    "    )"
   ]
  }
 ],
 "metadata": {
  "kernelspec": {
   "display_name": "Python 3",
   "language": "python",
   "name": "python3"
  },
  "language_info": {
   "codemirror_mode": {
    "name": "ipython",
    "version": 3
   },
   "file_extension": ".py",
   "mimetype": "text/x-python",
   "name": "python",
   "nbconvert_exporter": "python",
   "pygments_lexer": "ipython3",
   "version": "3.8.8"
  }
 },
 "nbformat": 4,
 "nbformat_minor": 5
}
